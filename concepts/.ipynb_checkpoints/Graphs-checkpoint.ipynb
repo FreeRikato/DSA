{
 "cells": [
  {
   "cell_type": "markdown",
   "id": "3e08b488-61e7-44ee-b25d-0a24aef4ef75",
   "metadata": {},
   "source": [
    "# Graph Concepts"
   ]
  },
  {
   "attachments": {},
   "cell_type": "markdown",
   "id": "ac99b179-5dfb-487e-a8eb-2c357f874a61",
   "metadata": {},
   "source": [
    "## Prerequisite Concepts for Graph"
   ]
  },
  {
   "cell_type": "markdown",
   "id": "ccf95228-8d1e-4d05-9027-c22dbe8d5a78",
   "metadata": {},
   "source": [
    "### Basic Data structures\n",
    "- Arrays and list: Representing graphs, especially when using adjacency lists\n",
    "- Stacks and Queues:\n",
    "    - BFS uses a queue (FIFO) for traversal\n",
    "    - DFS uses a stack (LIFO) for traversal\n",
    "    - Implemented using recursion or an explicit stack"
   ]
  },
  {
   "cell_type": "markdown",
   "id": "52329ede-a4a7-4a83-8c42-b27d4a31267c",
   "metadata": {},
   "source": [
    "### Recursion Concepts\n",
    "\n",
    "![image.png](./files/recursionMeme.png)\n",
    "\n",
    "=> Function calls itself + solve a smaller instance of the same problem + until it reaches a base case\n",
    "\n",
    "=> Recursion is a very important concept, used in the harder DSA concepts like Trees, Graphs and Dynamic programming\n",
    "\n",
    "[Visualizing Recursion tree with visualgo](https://visualgo.net/en/recursion)\n",
    "\n",
    "- Base case\n",
    "- Recursive case\n",
    "- Call Stack"
   ]
  },
  {
   "cell_type": "markdown",
   "id": "be7c4a6f-5af0-4ce4-a2b5-ea30eea98c7e",
   "metadata": {},
   "source": [
    "## Graph Theory\n",
    "\n",
    "### Basics\n",
    "\n",
    "![](./files/graphSocialMedia.png)\n",
    "\n",
    "- Vertices/Nodes (Entities -> Account) and Edges (Relationship between entities -> Connection between accounts)\n",
    "- Vertices along with edges together, are called as graph\n",
    "- The vertices that are joined by an edge are called 'adjacent'\n",
    "\n",
    "![](./files/graphStructure.png)\n",
    "\n",
    "#### Types of Graphs\n",
    "\n",
    " - Directed vs Undirected\n",
    "\n",
    " ![](./files/directedVsUnidrected.png)\n",
    "\n",
    "- Weighted vs Unweighted\n",
    "\n",
    "![](./files/weightedVsUnweighted.png)"
   ]
  },
  {
   "cell_type": "markdown",
   "id": "62503375-d16d-49b6-842b-e168329b9585",
   "metadata": {},
   "source": [
    "#### Graph Representation:\n",
    "\n",
    "> 1. Adjacency matrix: A 2D array to represent edge connections i.e, If there are V vertices, take a matrix of VxV and store which vertices are adjacent to which vertices\n",
    "\n",
    "![](./files/adjacencyMatrix.png)\n",
    "\n",
    "![](./files/adjacentMatrix2.png)\n",
    "\n",
    "\n",
    ">\n",
    "> - If the graph is directed, the matrix would be asymmetrical\n",
    ">\n",
    "> - If the graph is weighted, store the weight in matrix instead of true/false\n",
    ">\n",
    "\n",
    "![](./files/adjacencyMatrix3.png)\n",
    "\n",
    "![](./files/adjacencyMatrix4.png)\n",
    "\n",
    ">\n",
    "> Drawback: Takes O(V^2) memory even if number of edges is small\n",
    ">\n",
    "> For example,\n",
    ">\n",
    ">> * Number of Vertices = 10^5\n",
    ">>\n",
    ">> * Then, Number of Edges to be represented in matrix = 10^5 * 10^5 = 10^10\n",
    ">\n",
    "\n",
    "> 2. Adjacency list: An array of lists where each list represents a vertex and its adjacent vertices i.e, for each of the V vertices, keep a list of vertices which are adjacent to it\n",
    "\n",
    "![](./files/adjacencyList.png)\n",
    "\n",
    "> Graphs, in which the number of edges aren't a lot compared to the number of vertices, are called \"Sparse Graphs\". Adjacency List representation is necessary when dealing with sparse graphs.\n",
    "\n",
    "![](./files/adjacencyList2.png)\n",
    "\n",
    "> - If the graph is weighted, store a pair of {vertex, weight} for all outgoing edges.\n",
    ">\n",
    "> Advantage: Takes only O(V+E) memory. (V lists and every edge adds 2 items to the lists in total)\n",
    ">\n",
    "> Note: The number of items in the adjacency list of a vertex is called the \"degree\" of that vertex"
   ]
  },
  {
   "cell_type": "markdown",
   "id": "870421bb-5818-4568-88d6-078ece568bb8",
   "metadata": {},
   "source": [
    "#### Understanding Graph to solve problems:\n",
    "> Which of the metal nails will give you an electric shock upon touching?\n",
    "\n",
    "![](./files/nailProblem.png)\n",
    "\n",
    "> This introduces the concept of “Connectivity” in a graph.\n",
    "\n",
    "![](./files/nailProblem2.png)"
   ]
  },
  {
   "cell_type": "markdown",
   "id": "6b66fece-1c4d-49a5-9ca3-e1bb8ffbb410",
   "metadata": {},
   "source": [
    "#### Terminology related to Connectivity (or Reachability)\n",
    "\n",
    "- `Path` : A sequence of *distinct* vertices such as A1 -> A2 -> A3 -> A4, such that there is an edge from A(x) to A(x+1)\n",
    "- `Connectivity` : Vertex X is connected to Vertex Y if there is at least 1 path from X to Y\n",
    "- `Connected Component` : A maximum group of vertices such that each of them is connected to one other\n",
    "\n",
    "![](./files/connectivity.png)"
   ]
  },
  {
   "cell_type": "markdown",
   "id": "beecaef9-be8c-4a9e-83c4-bae808292f04",
   "metadata": {},
   "source": [
    "#### How to find a connected component?\n",
    "\n",
    "1. Start from a vertex\n",
    "2. All vertices adjacent to that vertex are in the same connected component\n",
    "3. All of the vertices to those are in the same connected component and so on.\n",
    "\n",
    "![](./files/traverseConnectedComponent.png)\n",
    "\n",
    "- There arises an issue where undirected graphs have vertices linked to each other\n",
    "\n",
    ">- Ever been lost in a maze? Try marking some marks in the places you've already been,\n",
    ">\n",
    ">- so you don't get stuck in infinite loops."
   ]
  },
  {
   "cell_type": "markdown",
   "id": "b2458c6c-26c0-4236-8a98-64cba133150a",
   "metadata": {},
   "source": [
    "#### Identifying a Graph Problem\n",
    "\n",
    "A problem can be identified as a graph problem if it involves entities and relationships between them. Here are some common indicators:\n",
    "\n",
    "1. **Paths and Connectivity**: If the problem involves finding paths, shortest paths, or connectivity between entities (e.g., cities, network nodes), it is likely a graph problem.\n",
    "2. **Relationships**: When entities have relationships that can be represented as edges between nodes (e.g., social networks, road networks).\n",
    "3. **Traversal**: If the problem requires visiting or traversing nodes in a specific manner (e.g., exploring all possible routes, searching for a specific node).\n",
    "4. **Cycles and Components**: Problems involving detecting cycles, strongly connected components, or connected components.\n",
    "5. **Optimization**: If the problem involves optimizing some criteria over a network of nodes and edges (e.g., minimum spanning tree, maximum flow).\n"
   ]
  },
  {
   "cell_type": "markdown",
   "id": "61674d99-2f64-45fe-9603-63baa6911241",
   "metadata": {},
   "source": [
    "### Graph Traversal\n",
    "\n",
    "![](./files/simpleTraversalExample.png)\n",
    "\n",
    "![](./files/traversalExample.png)\n",
    "\n",
    "![](./files/BFStraversalExample.png)\n",
    "\n",
    "![](./files/DFStraversalExample.png)"
   ]
  },
  {
   "cell_type": "markdown",
   "id": "4eb251e2-4557-4c72-a15e-d3272a22e60c",
   "metadata": {},
   "source": [
    "##### Cycles in a Graph and Tree\n",
    "\n",
    "- A cycle is like a path that starts and ends at the same vertex\n",
    "- For example, 2 -> 3 -> 4 -> 2\n",
    "- A Connected graph without Cycles is called Tree. (A Disconnected Graph without cycles is called Forest.\n",
    "\n",
    "![](./files/cycleExample.png)\n",
    "\n",
    "![](./files/treeExample.png)"
   ]
  },
  {
   "cell_type": "markdown",
   "id": "16d135fb-1062-4e36-b830-5070e4aa28bc",
   "metadata": {},
   "source": [
    "#### DFS\n",
    "\n",
    "[Visualize DFS with VisualGo](https://visualgo.net/en/dfsbfs)\n",
    "\n",
    "We firstly go as deep as possible in a certain direction before going elsewhere\n",
    "\n",
    "![](./files/dfsCode.png)\n",
    "\n",
    "\n",
    "> Time Complexity: O(V + E), because every vertex is visited only once, and every edge is considered only twice, once from while visiting each of the end points of the edge"
   ]
  },
  {
   "cell_type": "markdown",
   "id": "33bf5292-633a-4113-a750-24903bce4274",
   "metadata": {},
   "source": [
    "#### Build Intuition in DFS to code\n",
    "\n",
    "1. DFS Graph Traversal\n",
    "    - Problem: Given a graph, traverse all the nodes and print them.\n",
    "    - Learning: Basic implementation of DFS, handling graph representations (adjacency list/matrix), and understanding the traversal order. \n",
    "2. Cycle Detection in Undirected Graph:\n",
    "    - Problem: Determine if a given undirected graph contains a cycle.\n",
    "    - Learning: Using DFS to backtrack and detect cycles by keeping track of visited nodes and their ancestors.\n",
    "3. Connected Components:\n",
    "    - Problem: Find all connected components in an undirected graph.\n",
    "    - Learning: Applying DFS to explore and identify different connected components, marking nodes as visited in each component.\n",
    "4. Topological Sorting:\n",
    "    - Problem: Perform a topological sort on a directed acyclic graph (DAG).\n",
    "    - Learning: Utilizing DFS to order nodes such that for every directed edge UV, vertex U comes before vertex V.\n",
    "5. Pathfinding in a Maze:\n",
    "    - Problem: Given a maze represented as a 2D grid, find a path from the start to the end.\n",
    "    - Learning: Adapting DFS to navigate a 2D grid, marking paths, and backtracking when hitting dead ends."
   ]
  },
  {
   "cell_type": "markdown",
   "id": "d1ba8caa-f67e-47f4-ba3e-f983e99bc61a",
   "metadata": {
    "jp-MarkdownHeadingCollapsed": true
   },
   "source": [
    "##### DFS Graph Traversal"
   ]
  },
  {
   "cell_type": "code",
   "execution_count": 26,
   "id": "718eb63d-79f1-453c-b25a-086f61b45d22",
   "metadata": {},
   "outputs": [],
   "source": [
    "#include <iostream>\n",
    "#include <vector>\n",
    "#include <stack>\n",
    "using namespace std;"
   ]
  },
  {
   "cell_type": "code",
   "execution_count": 27,
   "id": "8c04b5ad-ab53-4e7b-9173-57b155880380",
   "metadata": {},
   "outputs": [],
   "source": [
    "// Function to perform DFS traversal\n",
    "void DFS(int node, vector<vector<int>>& adjList, vector<bool>& visited) {\n",
    "    stack<int> s;\n",
    "    s.push(node);\n",
    "\n",
    "    while (!s.empty()) {\n",
    "        int current = s.top();\n",
    "        s.pop();\n",
    "\n",
    "        if (!visited[current]) {\n",
    "            cout << current << \" \";\n",
    "            visited[current] = true;\n",
    "        }\n",
    "\n",
    "        for (int i = adjList[current].size() - 1; i >= 0; --i) {\n",
    "            if (!visited[adjList[current][i]]) {\n",
    "                s.push(adjList[current][i]);\n",
    "            }\n",
    "        }\n",
    "    }\n",
    "}"
   ]
  },
  {
   "cell_type": "code",
   "execution_count": 28,
   "id": "a8576b30-78a7-4d68-95cf-4b2b7aa17c9b",
   "metadata": {},
   "outputs": [
    {
     "name": "stdout",
     "output_type": "stream",
     "text": [
      "DFS Traversal starting from node 0 : 0 1 3 4 2 5 \n"
     ]
    }
   ],
   "source": [
    "// Example graph represented as an adjacency list\n",
    "vector<vector<int>> adjList = {\n",
    "    {1, 2},       // Node 0 is connected to nodes 1 and 2\n",
    "    {0, 3, 4},    // Node 1 is connected to nodes 0, 3, and 4\n",
    "    {0, 4},       // Node 2 is connected to nodes 0 and 4\n",
    "    {1, 4, 5},    // Node 3 is connected to nodes 1, 4, and 5\n",
    "    {1, 2, 3, 5}, // Node 4 is connected to nodes 1, 2, 3, and 5\n",
    "    {3, 4}        // Node 5 is connected to nodes 3 and 4\n",
    "};\n",
    "\n",
    "int n = adjList.size();\n",
    "vector<bool> visited(n, false);\n",
    "\n",
    "int start_node = 0;\n",
    "// Start DFS from node 0\n",
    "cout << \"DFS Traversal starting from node \" << start_node << \" : \";\n",
    "DFS(start_node, adjList, visited);\n",
    "cout << endl;"
   ]
  },
  {
   "cell_type": "markdown",
   "id": "16d494b2-27df-41eb-a492-514d32ff4617",
   "metadata": {
    "jp-MarkdownHeadingCollapsed": true
   },
   "source": [
    "##### Cycle Detection in Undirected Graph"
   ]
  },
  {
   "cell_type": "code",
   "execution_count": 36,
   "id": "77b356b3-79dc-4e2e-a782-f6db8e35c2fe",
   "metadata": {},
   "outputs": [],
   "source": [
    "#include <iostream>\n",
    "#include <vector>\n",
    "#include <list>\n",
    "\n",
    "using namespace std;"
   ]
  },
  {
   "cell_type": "code",
   "execution_count": 37,
   "id": "ad0ece8f-0adf-4d64-b33c-086d54367f0c",
   "metadata": {},
   "outputs": [],
   "source": [
    "bool DFS(int v, vector<bool>& visited, int parent, vector<list<int>>& adj) {\n",
    "    visited[v] = true;\n",
    "\n",
    "    for (int neighbor : adj[v]) {\n",
    "        // If the neighbor is not visited, then recurse on it\n",
    "        if (!visited[neighbor]) {\n",
    "            if (DFS(neighbor, visited, v, adj))\n",
    "                return true;\n",
    "        }\n",
    "        // If an adjacent vertex is visited and is not the parent of the current vertex,\n",
    "        // then there is a cycle\n",
    "        else if (neighbor != parent) {\n",
    "            return true;\n",
    "        }\n",
    "    }\n",
    "    return false;\n",
    "}"
   ]
  },
  {
   "cell_type": "code",
   "execution_count": 38,
   "id": "23812298-5678-469d-a9dd-8e14d2d552cf",
   "metadata": {},
   "outputs": [],
   "source": [
    "\n",
    "bool isCycle(int V, vector<list<int>>& adj) {\n",
    "    vector<bool> visited(V, false);\n",
    "\n",
    "    // Call the recursive helper function to detect cycle in different DFS trees\n",
    "    for (int u = 0; u < V; ++u) {\n",
    "        if (!visited[u]) {\n",
    "            if (DFS(u, visited, -1, adj))\n",
    "                return true;\n",
    "        }\n",
    "    }\n",
    "    return false;\n",
    "}"
   ]
  },
  {
   "cell_type": "code",
   "execution_count": 39,
   "id": "ac910072-dde1-4908-989e-7a7474e18118",
   "metadata": {},
   "outputs": [
    {
     "name": "stdout",
     "output_type": "stream",
     "text": [
      "Graph contains cycle\n"
     ]
    }
   ],
   "source": [
    "int V = 5;  // Number of vertices\n",
    "vector<list<int>> adj(V);\n",
    "\n",
    "// Adding edges to the graph\n",
    "adj[0].push_back(1);\n",
    "adj[1].push_back(0);\n",
    "\n",
    "adj[1].push_back(2);\n",
    "adj[2].push_back(1);\n",
    "\n",
    "adj[2].push_back(0);\n",
    "adj[0].push_back(2);\n",
    "\n",
    "adj[1].push_back(3);\n",
    "adj[3].push_back(1);\n",
    "\n",
    "adj[3].push_back(4);\n",
    "adj[4].push_back(3);\n",
    "\n",
    "if (isCycle(V, adj))\n",
    "    cout << \"Graph contains cycle\" << endl;\n",
    "else\n",
    "    cout << \"Graph doesn't contain cycle\" << endl;"
   ]
  },
  {
   "cell_type": "markdown",
   "id": "d8351ca4-571a-44bb-a33a-3c49a0a2b277",
   "metadata": {
    "jp-MarkdownHeadingCollapsed": true
   },
   "source": [
    "##### Connected Components"
   ]
  },
  {
   "cell_type": "code",
   "execution_count": 66,
   "id": "460158b5-f087-47d6-a8ac-d462eccbac07",
   "metadata": {},
   "outputs": [],
   "source": [
    "#include <vector>\n",
    "#include <iostream>\n",
    "using namespace std;\n",
    "\n",
    "const int N = 10000;\n",
    "vector<int> adj_list[N];\n",
    "bool visited[N];"
   ]
  },
  {
   "cell_type": "code",
   "execution_count": 68,
   "id": "00991a02-e81e-4d94-b44c-13af0ab37560",
   "metadata": {},
   "outputs": [],
   "source": [
    "void dfs(int curr) {\n",
    "    visited[curr] = true;\n",
    "    for (int next : adj_list[curr]) {\n",
    "        if (visited[next]) continue;\n",
    "        dfs(next);\n",
    "    }\n",
    "}"
   ]
  },
  {
   "cell_type": "code",
   "execution_count": 69,
   "id": "fd47e970-5488-4e47-bebe-b33edf43ca1c",
   "metadata": {},
   "outputs": [
    {
     "name": "stdout",
     "output_type": "stream",
     "text": [
      "Number of Connected Components: 3\n"
     ]
    }
   ],
   "source": [
    "int n = 8, m = 5;\n",
    "\n",
    "adj_list[1].push_back(2);\n",
    "adj_list[2].push_back(1);\n",
    "\n",
    "adj_list[2].push_back(3);\n",
    "adj_list[3].push_back(2);\n",
    "\n",
    "adj_list[2].push_back(4);\n",
    "adj_list[4].push_back(2);\n",
    "\n",
    "adj_list[3].push_back(5);\n",
    "adj_list[5].push_back(3);\n",
    "\n",
    "adj_list[6].push_back(7);\n",
    "adj_list[7].push_back(6);\n",
    "int ans = 0;\n",
    "\n",
    "// Perform DFS for each component\n",
    "for (int i = 1; i <= n; i++) {\n",
    "    if (!visited[i]) {\n",
    "        dfs(i);\n",
    "        ans++;\n",
    "    }\n",
    "}\n",
    "\n",
    "cout << \"Number of Connected Components: \" << ans << '\\n';"
   ]
  },
  {
   "cell_type": "markdown",
   "id": "e36883de-dcfd-41ad-8504-82f62800d9d4",
   "metadata": {
    "jp-MarkdownHeadingCollapsed": true
   },
   "source": [
    "##### Topological Sorting"
   ]
  },
  {
   "cell_type": "code",
   "execution_count": 40,
   "id": "aa239464-adc5-4395-bf5b-cc639995d882",
   "metadata": {},
   "outputs": [],
   "source": [
    "#include <iostream>\n",
    "#include <vector>\n",
    "#include <stack>\n",
    "using namespace std;"
   ]
  },
  {
   "cell_type": "code",
   "execution_count": 42,
   "id": "8a82be9f-ad6b-480e-972f-f8aabaa32d3b",
   "metadata": {},
   "outputs": [],
   "source": [
    "void topologicalSortUtil(int v, vector<bool>& visited, stack<int>& Stack, vector<vector<int>>& adj) {\n",
    "    visited[v] = true;\n",
    "\n",
    "    for (int i = 0; i < adj[v].size(); ++i) {\n",
    "        if (!visited[adj[v][i]]) {\n",
    "            topologicalSortUtil(adj[v][i], visited, Stack, adj);\n",
    "        }\n",
    "    }\n",
    "\n",
    "    Stack.push(v);\n",
    "}"
   ]
  },
  {
   "cell_type": "code",
   "execution_count": 43,
   "id": "c29aca00-34ce-4734-86d8-febd45e3bf37",
   "metadata": {},
   "outputs": [],
   "source": [
    "void topologicalSort(int V, vector<vector<int>>& adj) {\n",
    "    stack<int> Stack;\n",
    "    vector<bool> visited(V, false);\n",
    "\n",
    "    for (int i = 0; i < V; i++) {\n",
    "        if (!visited[i]) {\n",
    "            topologicalSortUtil(i, visited, Stack, adj);\n",
    "        }\n",
    "    }\n",
    "\n",
    "    while (!Stack.empty()) {\n",
    "        cout << Stack.top() << \" \";\n",
    "        Stack.pop();\n",
    "    }\n",
    "    cout << endl;\n",
    "}"
   ]
  },
  {
   "cell_type": "code",
   "execution_count": 44,
   "id": "3e85384b-961f-4ddb-9206-75805757a212",
   "metadata": {},
   "outputs": [
    {
     "name": "stdout",
     "output_type": "stream",
     "text": [
      "Topological Sort of the given graph is: \n",
      "5 4 2 3 1 0 \n"
     ]
    }
   ],
   "source": [
    "int V = 6;\n",
    "vector<vector<int>> adj(V);\n",
    "\n",
    "adj[5].push_back(2);\n",
    "adj[5].push_back(0);\n",
    "adj[4].push_back(0);\n",
    "adj[4].push_back(1);\n",
    "adj[2].push_back(3);\n",
    "adj[3].push_back(1);\n",
    "\n",
    "cout << \"Topological Sort of the given graph is: \\n\";\n",
    "topologicalSort(V, adj);"
   ]
  },
  {
   "cell_type": "markdown",
   "id": "5048a918-3feb-453c-a89b-317126bd1133",
   "metadata": {
    "jp-MarkdownHeadingCollapsed": true
   },
   "source": [
    "##### Pathfinding in a Maze"
   ]
  },
  {
   "cell_type": "code",
   "execution_count": 45,
   "id": "bba4d920-694d-4401-91e5-e58475ddd95f",
   "metadata": {},
   "outputs": [],
   "source": [
    "#include <iostream>\n",
    "#include <vector>\n",
    "\n",
    "using namespace std;\n",
    "\n",
    "// Directions arrays for moving in 4 possible directions (up, down, left, right)\n",
    "int dirX[] = {-1, 1, 0, 0};\n",
    "int dirY[] = {0, 0, -1, 1};"
   ]
  },
  {
   "cell_type": "code",
   "execution_count": 46,
   "id": "30d5a01e-f23c-4061-ae58-de5454eab46f",
   "metadata": {},
   "outputs": [],
   "source": [
    "// Function to check if the current cell is valid\n",
    "bool isValid(int x, int y, vector<vector<int>> &maze, vector<vector<bool>> &visited) {\n",
    "    int rows = maze.size();\n",
    "    int cols = maze[0].size();\n",
    "    return (x >= 0 && y >= 0 && x < rows && y < cols && maze[x][y] == 1 && !visited[x][y]);\n",
    "}"
   ]
  },
  {
   "cell_type": "code",
   "execution_count": 48,
   "id": "03ac499f-7ccc-41e4-988e-a1151958a510",
   "metadata": {},
   "outputs": [],
   "source": [
    "// DFS function to find a path in the maze\n",
    "bool dfs(vector<vector<int>> &maze, vector<vector<bool>> &visited, int x, int y, vector<pair<int, int>> &path) {\n",
    "    // If the destination is reached\n",
    "    if (x == maze.size() - 1 && y == maze[0].size() - 1) {\n",
    "        path.push_back({x, y});\n",
    "        return true;\n",
    "    }\n",
    "\n",
    "    // Mark the current cell as visited\n",
    "    visited[x][y] = true;\n",
    "    path.push_back({x, y});\n",
    "\n",
    "    // Explore the four possible directions\n",
    "    for (int i = 0; i < 4; ++i) {\n",
    "        int newX = x + dirX[i];\n",
    "        int newY = y + dirY[i];\n",
    "        if (isValid(newX, newY, maze, visited) && dfs(maze, visited, newX, newY, path)) {\n",
    "            return true;\n",
    "        }\n",
    "    }\n",
    "\n",
    "    // Backtrack if no path is found\n",
    "    path.pop_back();\n",
    "    return false;\n",
    "}"
   ]
  },
  {
   "cell_type": "code",
   "execution_count": 49,
   "id": "9eab66d7-7187-42cb-ad65-ec9f6aa2ecd3",
   "metadata": {},
   "outputs": [
    {
     "name": "stdout",
     "output_type": "stream",
     "text": [
      "Path found:\n",
      "(0, 0) (1, 0) (1, 1) (2, 1) (3, 1) (3, 2) (3, 3) \n"
     ]
    }
   ],
   "source": [
    "// Example input: 1 is path, 0 is wall\n",
    "vector<vector<int>> maze = {\n",
    "    {1, 0, 0, 0},\n",
    "    {1, 1, 0, 1},\n",
    "    {0, 1, 0, 0},\n",
    "    {1, 1, 1, 1}\n",
    "};\n",
    "\n",
    "int rows = maze.size();\n",
    "int cols = maze[0].size();\n",
    "\n",
    "vector<vector<bool>> visited(rows, vector<bool>(cols, false));\n",
    "vector<pair<int, int>> path;\n",
    "\n",
    "if (dfs(maze, visited, 0, 0, path)) {\n",
    "    cout << \"Path found:\\n\";\n",
    "    for (auto cell : path) {\n",
    "        cout << \"(\" << cell.first << \", \" << cell.second << \") \";\n",
    "    }\n",
    "    cout << endl;\n",
    "} else {\n",
    "    cout << \"No path found.\\n\";\n",
    "}"
   ]
  },
  {
   "cell_type": "markdown",
   "id": "6fae11bf-1c66-482f-83ea-398667cf1bb0",
   "metadata": {},
   "source": [
    "#### DFS Practice Sums\n",
    "1. [Connected Components in a Graph](https://www.hackerearth.com/problem/algorithm/connected-components-in-a-graph/)\n",
    "2. [Counting Rooms](https://cses.fi/problemset/task/1192)\n",
    "3. [Labyrinth](https://cses.fi/problemset/task/1193)\n",
    "4. [Round Trip](https://cses.fi/problemset/task/1669)\n",
    "\n",
    "Note: Grid/Maze is also a graph, Every square in the grid is a vertex and implicitly there are upto 4 edges -> L, R, U & D\n",
    "\n",
    "![](./files/Maze1.png)\n",
    "\n",
    "When working with grids, you do not need to keep an adjacency list, you can find all 4 adjacent vertices easily:\n",
    "\n",
    "For (x, y) the adjacent vertices are:\n",
    "\n",
    "`int dx[4] = {1, 0, -1, 0};`\n",
    "\n",
    "`int dy[4] = {0, 1, 0, -1};`\n",
    "\n",
    "- (x, y + 1)\n",
    "- (x + 1, y)\n",
    "- (x - 1, y)\n",
    "- (x, y - 1)"
   ]
  },
  {
   "cell_type": "markdown",
   "id": "74dd7b90-bb1c-4ef1-a680-98bc9fd176d6",
   "metadata": {},
   "source": [
    "#### BFS\n",
    "\n",
    "How Would you tackle the below problem?\n",
    "=> Find Minimum number of roads to get from house to school\n",
    "\n",
    "![](./files/BFS.png)\n",
    "\n",
    "\n",
    "The above can be termed as \"Shortest Path Problem\". And since we care only about the number of roads and not the length of the roads, we consider the unweighted graph\n",
    "\n",
    "The general idea to solve this problem is pretty intuitive:\n",
    "- Start with source index, the \"distance\" for that is 0\n",
    "- All vertices adjacent to source have distance 1\n",
    "- All unvisited vertices which are adjacent to atleast one of vertices with distance 1 have distance 2\n",
    "- All unvisited vertices which are adjacent to atleast one of vertices with distance x have distance (x+1)\n",
    "- Keep repeating previous step until the destination is found\n",
    "\n",
    "But how can we implement this as a computer program?\n",
    "Ans: QUEUE\n",
    "\n",
    "![](./files/bfsCode.png)\n",
    "\n",
    "\n",
    "> => We are using a queue because of the FIFO principle. The vertex which is seen first is nearer to the source, so it is best if it is popped first, this guarantees that no vertex with a higher distance from the source is popped before a vertex with a lower distance\n",
    ">\n",
    "> => Time Complexity: O(V+E), the reasoning is similar to DFS, a vertex is visited only once and an edge is considered only twice at most."
   ]
  },
  {
   "cell_type": "markdown",
   "id": "fe1d23c8-fcd9-4b91-a58c-47cf22df4e11",
   "metadata": {},
   "source": [
    "#### BFS Practice Sums\n",
    "\n",
    "1. [Message Route](https://cses.fi/problemset/task/1667)\n",
    "2. [NAKANJ - Minimum Knight moves !!!](https://www.spoj.com/problems/NAKANJ/)\n",
    "3. [Monsters](https://cses.fi/problemset/task/1194)\n",
    "4. [Snake and Ladder Problem](https://www.geeksforgeeks.org/problems/snake-and-ladder-problem4816/1)"
   ]
  }
 ],
 "metadata": {
  "kernelspec": {
   "display_name": "C++14",
   "language": "C++14",
   "name": "xcpp14"
  },
  "language_info": {
   "codemirror_mode": "text/x-c++src",
   "file_extension": ".cpp",
   "mimetype": "text/x-c++src",
   "name": "c++",
   "version": "14"
  }
 },
 "nbformat": 4,
 "nbformat_minor": 5
}
