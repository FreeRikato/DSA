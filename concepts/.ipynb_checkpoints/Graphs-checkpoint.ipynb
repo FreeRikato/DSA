{
 "cells": [
  {
   "cell_type": "markdown",
   "id": "3e08b488-61e7-44ee-b25d-0a24aef4ef75",
   "metadata": {},
   "source": [
    "# Graph Concepts"
   ]
  },
  {
   "attachments": {},
   "cell_type": "markdown",
   "id": "ac99b179-5dfb-487e-a8eb-2c357f874a61",
   "metadata": {},
   "source": [
    "## Prerequisite Concepts for Graph"
   ]
  },
  {
   "cell_type": "markdown",
   "id": "ccf95228-8d1e-4d05-9027-c22dbe8d5a78",
   "metadata": {},
   "source": [
    "### Basic Data structures\n",
    "- Arrays and list: Representing graphs, especially when using adjacency lists\n",
    "- Stacks and Queues:\n",
    "    - BFS uses a queue (FIFO) for traversal\n",
    "    - DFS uses a stack (LIFO) for traversal\n",
    "    - Implemented using recursion or an explicit stack"
   ]
  },
  {
   "cell_type": "markdown",
   "id": "52329ede-a4a7-4a83-8c42-b27d4a31267c",
   "metadata": {},
   "source": [
    "### Recursion Concepts\n",
    "\n",
    "![image.png](./files/recursionMeme.png)\n",
    "\n",
    "=> Function calls itself + solve a smaller instance of the same problem + until it reaches a base case\n",
    "\n",
    "=> Recursion is a very important concept, used in the harder DSA concepts like Trees, Graphs and Dynamic programming\n",
    "\n",
    "[Visualizing Recursion tree with visualgo](https://visualgo.net/en/recursion)\n",
    "\n",
    "- Base case\n",
    "- Recursive case\n",
    "- Call Stack"
   ]
  },
  {
   "cell_type": "markdown",
   "id": "be7c4a6f-5af0-4ce4-a2b5-ea30eea98c7e",
   "metadata": {},
   "source": [
    "### Graph Theory\n",
    "\n",
    "#### Basics\n",
    "\n",
    "![](./files/graphSocialMedia.png)\n",
    "\n",
    "- Vertices/Nodes (Entities -> Account) and Edges (Relationship between entities -> Connection between accounts)\n",
    "- Vertices along with edges together, are called as graph\n",
    "- The vertices that are joined by an edge are called 'adjacent'\n",
    "\n",
    "![](./files/graphStructure.png)\n",
    "\n",
    "#### Types of Graphs\n",
    "\n",
    " - Directed vs Undirected\n",
    "\n",
    " ![](./files/directedVsUnidrected.png)\n",
    "\n",
    "- Weighted vs Unweighted\n",
    "\n",
    "![](./files/weightedVsUnweighted.png)"
   ]
  },
  {
   "cell_type": "markdown",
   "id": "62503375-d16d-49b6-842b-e168329b9585",
   "metadata": {},
   "source": [
    "#### Graph Representation:\n",
    "\n",
    "> 1. Adjacency matrix: A 2D array to represent edge connections i.e, If there are V vertices, take a matrix of VxV and store which vertices are adjacent to which vertices\n",
    "\n",
    "![](./files/adjacencyMatrix.png)\n",
    "\n",
    "![](./files/adjacentMatrix2.png)\n",
    "\n",
    "\n",
    ">\n",
    "> - If the graph is directed, the matrix would be asymmetrical\n",
    ">\n",
    "> - If the graph is weighted, store the weight in matrix instead of true/false\n",
    ">\n",
    "\n",
    "![](./files/adjacencyMatrix3.png)\n",
    "\n",
    "![](./files/adjacencyMatrix4.png)\n",
    "\n",
    ">\n",
    "> Drawback: Takes O(V^2) memory even if number of edges is small\n",
    ">\n",
    "> For example,\n",
    ">\n",
    ">> * Number of Vertices = 10^5\n",
    ">>\n",
    ">> * Then, Number of Edges to be represented in matrix = 10^5 * 10^5 = 10^10\n",
    ">\n",
    "\n",
    "> 2. Adjacency list: An array of lists where each list represents a vertex and its adjacent vertices i.e, for each of the V vertices, keep a list of vertices which are adjacent to it\n",
    "\n",
    "![](./files/adjacencyList.png)\n",
    "\n",
    "> Graphs, in which the number of edges aren't a lot compared to the number of vertices, are called \"Sparse Graphs\". Adjacency List representation is necessary when dealing with sparse graphs.\n",
    "\n",
    "![](./files/adjacencyList2.png)\n",
    "\n",
    "> - If the graph is weighted, store a pair of {vertex, weight} for all outgoing edges.\n",
    ">\n",
    "> Advantage: Takes only O(V+E) memory. (V lists and every edge adds 2 items to the lists in total)\n",
    ">\n",
    "> Note: The number of items in the adjacency list of a vertex is called the \"degree\" of that vertex"
   ]
  },
  {
   "cell_type": "markdown",
   "id": "870421bb-5818-4568-88d6-078ece568bb8",
   "metadata": {},
   "source": [
    "#### Sample Problem to understand graphs:\n",
    "> Which of the metal nails will give you an electric shock upon touching?\n",
    "\n",
    "![](./files/nailProblem.png)\n",
    "\n",
    "> This introduces the concept of “Connectivity” in a graph.\n",
    "\n",
    "![](./files/nailProblem2.png)"
   ]
  },
  {
   "cell_type": "markdown",
   "id": "6b66fece-1c4d-49a5-9ca3-e1bb8ffbb410",
   "metadata": {},
   "source": [
    "#### Terminology related to Connectivity (or Reachability)\n",
    "\n",
    "- `Path` : A sequence of *distinct* vertices such as A1 -> A2 -> A3 -> A4, such that there is an edge from A(x) to A(x+1)\n",
    "- `Connectivity` : Vertex X is connected to Vertex Y if there is at least 1 path from X to Y\n",
    "- `Connected Component` : A maximum group of vertices such that each of them is connected to one other\n",
    "\n",
    "![](./files/connectivity.png)"
   ]
  },
  {
   "cell_type": "markdown",
   "id": "beecaef9-be8c-4a9e-83c4-bae808292f04",
   "metadata": {},
   "source": [
    "#### How to find a connected component?\n",
    "\n",
    "1. Start from a vertex\n",
    "2. All vertices adjacent to that vertex are in the same connected component\n",
    "3. All of the vertices to those are in the same connected component and so on.\n",
    "\n",
    "![](./files/traverseConnectedComponent.png)\n",
    "\n",
    "- There arises an issue where undirected graphs have vertices linked to each other\n",
    "\n",
    ">- Ever been lost in a maze? Try marking some marks in the places you've already been,\n",
    ">\n",
    ">- so you don't get stuck in infinite loops."
   ]
  },
  {
   "cell_type": "markdown",
   "id": "61674d99-2f64-45fe-9603-63baa6911241",
   "metadata": {},
   "source": [
    "#### Graph Traversal\n",
    "\n",
    "![](./files/simpleTraversalExample.png)\n",
    "\n",
    "![](./files/traversalExample.png)\n",
    "\n",
    "![](./files/BFStraversalExample.png)\n",
    "\n",
    "![](./files/DFStraversalExample.png)\n",
    "\n",
    "##### DFS\n",
    "\n",
    "[Visualize DFS with VisualGo](https://visualgo.net/en/dfsbfs)\n",
    "\n",
    "We firstly go as deep as possible in a certain direction before going elsewhere\n",
    "\n",
    "![](./files/dfsCode.png)\n",
    "\n",
    "\n",
    "> Time Complexity: O(V + E), because every vertex is visited only once, and every edge is considered only twice, once from while visiting each of the end points of the edge"
   ]
  },
  {
   "cell_type": "markdown",
   "id": "4eb251e2-4557-4c72-a15e-d3272a22e60c",
   "metadata": {},
   "source": [
    "##### Cycles in a Graph and Tree\n",
    "\n",
    "- A cycle is like a path that starts and ends at the same vertex\n",
    "- For example, 2 -> 3 -> 4 -> 2\n",
    "- A Connected graph without Cycles is called Tree. (A Disconnected Graph without cycles is called Forest.\n",
    "\n",
    "![](./files/cycleExample.png)\n",
    "\n",
    "![](./files/treeExample.png)"
   ]
  },
  {
   "cell_type": "markdown",
   "id": "6fae11bf-1c66-482f-83ea-398667cf1bb0",
   "metadata": {},
   "source": [
    "#### DFS Practice Sums\n",
    "1. [Connected Components in a Graph](https://www.hackerearth.com/problem/algorithm/connected-components-in-a-graph/)\n",
    "2. [Counting Rooms](https://cses.fi/problemset/task/1192)\n",
    "3. [Labyrinth](https://cses.fi/problemset/task/1193)\n",
    "4. [Round Trip](https://cses.fi/problemset/task/1669)\n",
    "\n",
    "Note: Grid/Maze is also a graph, Every square in the grid is a vertex and implicitly there are upto 4 edges -> L, R, U & D\n",
    "\n",
    "![](./files/Maze1.png)\n",
    "\n",
    "When working with grids, you do not need to keep an adjacency list, you can find all 4 adjacent vertices easily:\n",
    "\n",
    "For (x, y) the adjacent vertices are:\n",
    "\n",
    "`int dx[4] = {1, 0, -1, 0};`\n",
    "\n",
    "`int dy[4] = {0, 1, 0, -1};`\n",
    "\n",
    "- (x, y + 1)\n",
    "- (x + 1, y)\n",
    "- (x - 1, y)\n",
    "- (x, y - 1)"
   ]
  },
  {
   "cell_type": "code",
   "execution_count": 39,
   "id": "460158b5-f087-47d6-a8ac-d462eccbac07",
   "metadata": {},
   "outputs": [],
   "source": [
    "#include <vector>\n",
    "#include <iostream>\n",
    "using namespace std;\n",
    "\n",
    "const int N = 10000;\n",
    "vector<int> adj_list[N];\n",
    "bool visited[N];"
   ]
  },
  {
   "cell_type": "code",
   "execution_count": 40,
   "id": "00991a02-e81e-4d94-b44c-13af0ab37560",
   "metadata": {},
   "outputs": [],
   "source": [
    "void dfs(int curr) {\n",
    "    visited[curr] = true;\n",
    "    for (int next : adj_list[curr]) {\n",
    "        if (visited[next]) continue;\n",
    "        dfs(next);\n",
    "    }\n",
    "}"
   ]
  },
  {
   "cell_type": "code",
   "execution_count": 41,
   "id": "fd47e970-5488-4e47-bebe-b33edf43ca1c",
   "metadata": {},
   "outputs": [
    {
     "name": "stdout",
     "output_type": "stream",
     "text": [
      "Enter n (number of vertices) and m (number of edges)\n"
     ]
    },
    {
     "name": "stdin",
     "output_type": "stream",
     "text": [
      " 8 5\n",
      " 1 2\n",
      " 2 3\n",
      " 2 4\n",
      " 3 5\n",
      " 6 7\n"
     ]
    },
    {
     "name": "stdout",
     "output_type": "stream",
     "text": [
      "3\n"
     ]
    }
   ],
   "source": [
    "cout << \"Enter n (number of vertices) and m (number of edges)\\n\";\n",
    "int n, m;\n",
    "cin >> n >> m;\n",
    "\n",
    "// Input edges\n",
    "for (int i = 0; i < m; i++) {\n",
    "    int x, y;\n",
    "    cin >> x >> y;\n",
    "    adj_list[x].push_back(y);\n",
    "    adj_list[y].push_back(x);\n",
    "}\n",
    "\n",
    "int ans = 0;\n",
    "// Perform DFS for each component\n",
    "for (int i = 1; i <= n; i++) {\n",
    "    if (!visited[i]) {\n",
    "        dfs(i);\n",
    "        ans++;\n",
    "    }\n",
    "}\n",
    "\n",
    "cout << ans << '\\n';"
   ]
  },
  {
   "cell_type": "markdown",
   "id": "74dd7b90-bb1c-4ef1-a680-98bc9fd176d6",
   "metadata": {},
   "source": [
    "##### BFS\n",
    "\n",
    "How Would you tackle the below problem?\n",
    "=> Find Minimum number of roads to get from house to school\n",
    "\n",
    "![](./files/BFS.png)\n",
    "\n",
    "\n",
    "The above can be termed as \"Shortest Path Problem\". And since we care only about the number of roads and not the length of the roads, we consider the unweighted graph\n",
    "\n",
    "The general idea to solve this problem is pretty intuitive:\n",
    "- Start with source index, the \"distance\" for that is 0\n",
    "- All vertices adjacent to source have distance 1\n",
    "- All unvisited vertices which are adjacent to atleast one of vertices with distance 1 have distance 2\n",
    "- All unvisited vertices which are adjacent to atleast one of vertices with distance x have distance (x+1)\n",
    "- Keep repeating previous step until the destination is found\n",
    "\n",
    "But how can we implement this as a computer program?\n",
    "Ans: QUEUE\n",
    "\n",
    "![](./files/bfsCode.png)\n",
    "\n",
    "\n",
    "> => We are using a queue because of the FIFO principle. The vertex which is seen first is nearer to the source, so it is best if it is popped first, this guarantees that no vertex with a higher distance from the source is popped before a vertex with a lower distance\n",
    ">\n",
    "> => Time Complexity: O(V+E), the reasoning is similar to DFS, a vertex is visited only once and an edge is considered only twice at most."
   ]
  },
  {
   "cell_type": "markdown",
   "id": "fe1d23c8-fcd9-4b91-a58c-47cf22df4e11",
   "metadata": {},
   "source": [
    "#### BFS Practice Sums\n",
    "\n",
    "1. [Message Route](https://cses.fi/problemset/task/1667)\n",
    "2. [NAKANJ - Minimum Knight moves !!!](https://www.spoj.com/problems/NAKANJ/)\n",
    "3. [Monsters](https://cses.fi/problemset/task/1194)\n",
    "4. [Snake and Ladder Problem](https://www.geeksforgeeks.org/problems/snake-and-ladder-problem4816/1)"
   ]
  }
 ],
 "metadata": {
  "kernelspec": {
   "display_name": "C++14",
   "language": "C++14",
   "name": "xcpp14"
  },
  "language_info": {
   "codemirror_mode": "text/x-c++src",
   "file_extension": ".cpp",
   "mimetype": "text/x-c++src",
   "name": "c++",
   "version": "14"
  }
 },
 "nbformat": 4,
 "nbformat_minor": 5
}
