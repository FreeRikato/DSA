{
 "cells": [
  {
   "cell_type": "markdown",
   "id": "7e138165-a932-4cfb-bf44-410581c24e12",
   "metadata": {},
   "source": [
    "![](./files/STL_Notes_1.PNG)\n",
    "![](./files/STL_Notes_2.PNG)"
   ]
  },
  {
   "cell_type": "code",
   "execution_count": 2,
   "id": "ff3b0f68-5464-4c5f-b515-73ce11247af3",
   "metadata": {},
   "outputs": [],
   "source": [
    "#include <iostream>\n",
    "#include <vector>\n",
    "\n",
    "\n",
    "using namespace std;\n"
   ]
  },
  {
   "cell_type": "code",
   "execution_count": null,
   "id": "7d876f2c-8cfe-4151-b93e-1321b9408ea3",
   "metadata": {},
   "outputs": [],
   "source": []
  }
 ],
 "metadata": {
  "kernelspec": {
   "display_name": "C++17",
   "language": "C++17",
   "name": "xcpp17"
  },
  "language_info": {
   "codemirror_mode": "text/x-c++src",
   "file_extension": ".cpp",
   "mimetype": "text/x-c++src",
   "name": "c++",
   "version": "17"
  }
 },
 "nbformat": 4,
 "nbformat_minor": 5
}
