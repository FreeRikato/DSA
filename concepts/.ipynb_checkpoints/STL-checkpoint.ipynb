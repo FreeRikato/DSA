{
 "cells": [
  {
   "cell_type": "markdown",
   "id": "a152fe33-6b7f-4795-8852-7322c6dc61f8",
   "metadata": {},
   "source": [
    "# STL"
   ]
  },
  {
   "cell_type": "markdown",
   "id": "d5efc985-aa22-4cdc-9183-1fd421664f8d",
   "metadata": {},
   "source": [
    "## Introduction"
   ]
  },
  {
   "cell_type": "markdown",
   "id": "7e138165-a932-4cfb-bf44-410581c24e12",
   "metadata": {},
   "source": [
    "![](./files/STL_Notes_1.JPG)\n",
    "![](https://media.geeksforgeeks.org/wp-content/uploads/20191111161536/Screenshot-from-2019-11-11-16-13-18.png)\n",
    "![](https://media.geeksforgeeks.org/wp-content/uploads/20191111161627/Screenshot-from-2019-11-11-16-15-07.png)"
   ]
  },
  {
   "cell_type": "markdown",
   "id": "6b60866b-c93e-45f6-a44d-89e2da5e9f39",
   "metadata": {},
   "source": [
    "## Vector"
   ]
  },
  {
   "cell_type": "markdown",
   "id": "5d71d129-dedb-42ee-bfa7-e654d9e77f1f",
   "metadata": {},
   "source": [
    "![](./files/STL_Notes_2.JPG)\n",
    "![](.//files/STL_Notes_3.JPG)"
   ]
  },
  {
   "cell_type": "code",
   "execution_count": 26,
   "id": "ff3b0f68-5464-4c5f-b515-73ce11247af3",
   "metadata": {},
   "outputs": [],
   "source": [
    "#include <iostream>\n",
    "#include <vector>\n",
    "#include <algorithm> // For sort\n",
    "#include <utility> // For pair\n",
    "using namespace std;"
   ]
  },
  {
   "cell_type": "code",
   "execution_count": 27,
   "id": "da683b30-9aaa-4b83-bb23-0d229da82575",
   "metadata": {},
   "outputs": [],
   "source": [
    "// 1. Initialization and Declaration\n",
    "vector<int> vec1; // Empty vector\n",
    "vector<int> vec2(5, 10); // Vector of size 5 with all elements as 10\n",
    "vector<int> vec3 = {1, 2, 3, 4}; // Initializer list\n",
    "int arr[] = {5, 6, 7};\n",
    "vector<int> vec4(arr, arr + sizeof(arr) / sizeof(arr[0])); // From array"
   ]
  },
  {
   "cell_type": "code",
   "execution_count": 28,
   "id": "cc3468db-a2fc-4e37-892f-576d6525df0a",
   "metadata": {},
   "outputs": [
    {
     "name": "stdout",
     "output_type": "stream",
     "text": [
      "Accessing elements using index and at():\n",
      "vec3[2]: 3\n",
      "vec3.at(2): 3\n",
      "Accessing elements using iterators:\n",
      "1 2 3 4 \n"
     ]
    }
   ],
   "source": [
    "// 2. Accessing Elements\n",
    "cout << \"Accessing elements using index and at():\\n\";\n",
    "cout << \"vec3[2]: \" << vec3[2] << \"\\n\";\n",
    "cout << \"vec3.at(2): \" << vec3.at(2) << \"\\n\";\n",
    "\n",
    "cout << \"Accessing elements using iterators:\\n\";\n",
    "for (auto it = vec3.begin(); it != vec3.end(); ++it) {\n",
    "    cout << *it << \" \";\n",
    "}\n",
    "cout << \"\\n\";"
   ]
  },
  {
   "cell_type": "code",
   "execution_count": 29,
   "id": "ebf975e9-c1bf-4bd1-ae11-7d0898cf3e89",
   "metadata": {},
   "outputs": [
    {
     "name": "stdout",
     "output_type": "stream",
     "text": [
      "Modified vec1: 5 10 \n"
     ]
    }
   ],
   "source": [
    "// 3. Modifying Elements\n",
    "vec1.push_back(10);\n",
    "vec1.push_back(20);\n",
    "vec1.insert(vec1.begin(), 5); // Insert at the beginning\n",
    "vec1.pop_back(); // Remove last element\n",
    "\n",
    "cout << \"Modified vec1: \";\n",
    "for (int x : vec1) cout << x << \" \";\n",
    "cout << \"\\n\";"
   ]
  },
  {
   "cell_type": "code",
   "execution_count": 30,
   "id": "9e0d8a14-a393-4aa6-80ce-7335ed870f45",
   "metadata": {},
   "outputs": [
    {
     "name": "stdout",
     "output_type": "stream",
     "text": [
      "Size of vec2: 5\n",
      "Capacity of vec2: 5\n",
      "Resized vec2: 10 10 10 \n",
      "Is vec2 empty? No\n"
     ]
    }
   ],
   "source": [
    "// 4. Size and Capacity\n",
    "cout << \"Size of vec2: \" << vec2.size() << \"\\n\";\n",
    "cout << \"Capacity of vec2: \" << vec2.capacity() << \"\\n\";\n",
    "vec2.resize(3); // Resize to 3 elements\n",
    "cout << \"Resized vec2: \";\n",
    "for (int x : vec2) cout << x << \" \";\n",
    "cout << \"\\n\";\n",
    "cout << \"Is vec2 empty? \" << (vec2.empty() ? \"Yes\" : \"No\") << \"\\n\";"
   ]
  },
  {
   "cell_type": "code",
   "execution_count": 31,
   "id": "b8349d48-cd64-4afb-9343-2e6c12ec996b",
   "metadata": {},
   "outputs": [
    {
     "name": "stdout",
     "output_type": "stream",
     "text": [
      "Iterating vec3 in reverse:\n",
      "4 3 2 1 \n"
     ]
    }
   ],
   "source": [
    "// 5. Iterators\n",
    "cout << \"Iterating vec3 in reverse:\\n\";\n",
    "for (auto it = vec3.rbegin(); it != vec3.rend(); ++it) {\n",
    "    cout << *it << \" \";\n",
    "}\n",
    "cout << \"\\n\";"
   ]
  },
  {
   "cell_type": "code",
   "execution_count": 32,
   "id": "0da54ff9-2f7f-4c0f-87d3-fc90eb3b7a0e",
   "metadata": {},
   "outputs": [
    {
     "name": "stdout",
     "output_type": "stream",
     "text": [
      "First element of vec3: 1\n",
      "Last element of vec3: 4\n",
      "Swapped vec3: 8 9 \n"
     ]
    }
   ],
   "source": [
    "// 6. Other Useful Functions\n",
    "cout << \"First element of vec3: \" << vec3.front() << \"\\n\";\n",
    "cout << \"Last element of vec3: \" << vec3.back() << \"\\n\";\n",
    "vector<int> vec5 = {8, 9};\n",
    "vec3.swap(vec5); // Swap contents with vec5\n",
    "cout << \"Swapped vec3: \";\n",
    "for (int x : vec3) cout << x << \" \";\n",
    "cout << \"\\n\";"
   ]
  },
  {
   "cell_type": "code",
   "execution_count": 33,
   "id": "b7fe4af9-d74e-4674-8d33-072995e61773",
   "metadata": {},
   "outputs": [
    {
     "name": "stdout",
     "output_type": "stream",
     "text": [
      "Matrix:\n",
      "0 0 0 \n",
      "0 0 0 \n",
      "0 0 0 \n"
     ]
    }
   ],
   "source": [
    "// 7. Advanced Usage\n",
    "vector<vector<int>> matrix(3, vector<int>(3, 0)); // 3x3 matrix initialized to 0\n",
    "cout << \"Matrix:\\n\";\n",
    "for (const auto& row : matrix) {\n",
    "    for (int x : row) cout << x << \" \";\n",
    "    cout << \"\\n\";\n",
    "}"
   ]
  },
  {
   "cell_type": "code",
   "execution_count": 34,
   "id": "f7930b75-5690-4936-864e-9506cadf308d",
   "metadata": {},
   "outputs": [
    {
     "name": "stdout",
     "output_type": "stream",
     "text": [
      "Sorted vec4: 5 6 7 \n",
      "Element 6 found in vec4\n"
     ]
    }
   ],
   "source": [
    "// Sorting and Searching\n",
    "sort(vec4.begin(), vec4.end());\n",
    "cout << \"Sorted vec4: \";\n",
    "for (int x : vec4) cout << x << \" \";\n",
    "cout << \"\\n\";\n",
    "auto it = find(vec4.begin(), vec4.end(), 6);\n",
    "if (it != vec4.end()) {\n",
    "    cout << \"Element 6 found in vec4\\n\";\n",
    "} else {\n",
    "    cout << \"Element 6 not found in vec4\\n\";\n",
    "}"
   ]
  },
  {
   "cell_type": "code",
   "execution_count": 35,
   "id": "5c029b4d-1ab0-42cb-83d0-44bc6263e32f",
   "metadata": {},
   "outputs": [
    {
     "name": "stdout",
     "output_type": "stream",
     "text": [
      "Capacity before adding elements: 4\n",
      "Capacity after adding elements: 128\n"
     ]
    }
   ],
   "source": [
    "// 8. Performance Considerations\n",
    "cout << \"Capacity before adding elements: \" << vec1.capacity() << \"\\n\";\n",
    "for (int i = 0; i < 100; ++i) vec1.push_back(i);\n",
    "cout << \"Capacity after adding elements: \" << vec1.capacity() << \"\\n\";"
   ]
  },
  {
   "cell_type": "code",
   "execution_count": 39,
   "id": "4d0d2944-e9a8-4c6b-a139-cc6d8cbcc67d",
   "metadata": {},
   "outputs": [],
   "source": [
    "std::vector<int> createVector() {\n",
    "    std::vector<int> vec = {1, 2, 3, 4, 5};\n",
    "    return vec;\n",
    "}"
   ]
  },
  {
   "cell_type": "code",
   "execution_count": 40,
   "id": "b5d1197c-0527-4b6c-904e-78c063a0cbcd",
   "metadata": {},
   "outputs": [],
   "source": [
    "void processVector(const vector<int>& vec) {\n",
    "    for (int val : vec) {\n",
    "        cout << val << \" \";\n",
    "    }\n",
    "    cout << \"\\n\";\n",
    "}"
   ]
  },
  {
   "cell_type": "code",
   "execution_count": null,
   "id": "76f2c71c-f727-4622-9779-80c0e259e70a",
   "metadata": {},
   "outputs": [],
   "source": []
  },
  {
   "cell_type": "code",
   "execution_count": 41,
   "id": "e84354cc-c6cd-48c9-9191-e3fbbeadf60b",
   "metadata": {},
   "outputs": [
    {
     "name": "stdout",
     "output_type": "stream",
     "text": [
      "Reserved capacity for vec1: 100\n",
      "Size of vec1 after adding elements: 100\n"
     ]
    }
   ],
   "source": [
    "// 1. Reserve Capacity\n",
    "vector<int> vec1;\n",
    "vec1.reserve(100);\n",
    "cout << \"Reserved capacity for vec1: \" << vec1.capacity() << \"\\n\";\n",
    "for (int i = 0; i < 100; ++i) {\n",
    "    vec1.push_back(i);\n",
    "}\n",
    "cout << \"Size of vec1 after adding elements: \" << vec1.size() << \"\\n\";"
   ]
  },
  {
   "cell_type": "code",
   "execution_count": 42,
   "id": "4bdbc81c-6f0a-46da-81a0-08736dc820c2",
   "metadata": {},
   "outputs": [
    {
     "name": "stdout",
     "output_type": "stream",
     "text": [
      "Elements in vec2: (1, 2) (3, 4) \n"
     ]
    }
   ],
   "source": [
    "// 2. Use Emplace Instead of Push\n",
    "vector<pair<int, int>> vec2;\n",
    "vec2.emplace_back(1, 2);\n",
    "vec2.emplace_back(3, 4);\n",
    "cout << \"Elements in vec2: \";\n",
    "for (const auto& p : vec2) {\n",
    "    cout << \"(\" << p.first << \", \" << p.second << \") \";\n",
    "}\n",
    "cout << \"\\n\";"
   ]
  },
  {
   "cell_type": "code",
   "execution_count": 43,
   "id": "e2704778-864a-44ca-8697-876750e2e7cb",
   "metadata": {},
   "outputs": [
    {
     "name": "stdout",
     "output_type": "stream",
     "text": [
      "Elements in vec3: 1 2 3 4 5 \n"
     ]
    }
   ],
   "source": [
    "// 3. Minimize Copies\n",
    "vector<int> vec3 = createVector();\n",
    "cout << \"Elements in vec3: \";\n",
    "processVector(vec3);"
   ]
  },
  {
   "cell_type": "code",
   "execution_count": 44,
   "id": "d87337f6-e7a3-49d7-b5ea-ec8ee9f8fa7c",
   "metadata": {},
   "outputs": [
    {
     "name": "stdout",
     "output_type": "stream",
     "text": [
      "Size of vec4 before shrink_to_fit: 2, capacity: 5\n",
      "Size of vec4 after shrink_to_fit: 2, capacity: 2\n"
     ]
    }
   ],
   "source": [
    "// 4. Use Shrink to Fit\n",
    "vector<int> vec4 = {1, 2, 3, 4, 5};\n",
    "vec4.erase(vec4.begin(), vec4.begin() + 3);\n",
    "cout << \"Size of vec4 before shrink_to_fit: \" << vec4.size() << \", capacity: \" << vec4.capacity() << \"\\n\";\n",
    "vec4.shrink_to_fit();\n",
    "cout << \"Size of vec4 after shrink_to_fit: \" << vec4.size() << \", capacity: \" << vec4.capacity() << \"\\n\";"
   ]
  },
  {
   "cell_type": "code",
   "execution_count": null,
   "id": "31abcdf5-7480-427b-8011-574bc9fb1cda",
   "metadata": {},
   "outputs": [],
   "source": [
    "// 5. Avoid Frequent Resizing\n",
    "vector<int> vec5(100);\n",
    "for (int i = 0; i < 100; ++i) {\n",
    "    vec5[i] = i;\n",
    "}\n",
    "cout << \"Elements in vec5: \";\n",
    "for (int i : vec5) {\n",
    "    cout << i << \" \";\n",
    "}\n",
    "cout << \"\\n\";"
   ]
  },
  {
   "cell_type": "code",
   "execution_count": null,
   "id": "da7d9386-8c4c-4e1a-829d-c7c469afe20a",
   "metadata": {},
   "outputs": [],
   "source": [
    "// 6. Use Iterators for Efficient Access\n",
    "cout << \"Iterating vec5 using iterators: \";\n",
    "for (auto it = vec5.begin(); it != vec5.end(); ++it) {\n",
    "    cout << *it << \" \";\n",
    "}\n",
    "cout << \"\\n\";"
   ]
  },
  {
   "cell_type": "code",
   "execution_count": null,
   "id": "cf2596bb-101b-417e-ac14-273b451b2d27",
   "metadata": {},
   "outputs": [],
   "source": [
    "// 7. Optimize Memory Management\n",
    "vector<int> vec6 = {1, 2, 3, 4, 5};\n",
    "vec6.clear();\n",
    "cout << \"Size of vec6 after clear: \" << vec6.size() << \", capacity: \" << vec6.capacity() << \"\\n\";\n",
    "vec6.shrink_to_fit();\n",
    "cout << \"Size of vec6 after shrink_to_fit: \" << vec6.size() << \", capacity: \" << vec6.capacity() << \"\\n\";"
   ]
  },
  {
   "cell_type": "code",
   "execution_count": null,
   "id": "86a485a5-7666-47f5-9c60-38cb1ab9d9b9",
   "metadata": {},
   "outputs": [],
   "source": [
    "// 8. Use Swap Idiom\n",
    "vector<int> vec7 = {1, 2, 3, 4, 5};\n",
    "vector<int>().swap(vec7);\n",
    "cout << \"Size of vec7 after swap: \" << vec7.size() << \", capacity: \" << vec7.capacity() << \"\\n\";"
   ]
  },
  {
   "cell_type": "code",
   "execution_count": null,
   "id": "2dc35540-09e1-4a9f-986d-0e295d1333ba",
   "metadata": {},
   "outputs": [
    {
     "name": "stdout",
     "output_type": "stream",
     "text": [
      "Elements in vec5: 0 1 2 3 4 5 6 7 8 9 10 11 12 13 14 15 16 17 18 19 20 21 22 23 24 25 26 27 28 29 30 31 32 33 34 35 36 37 38 39 40 41 42 43 44 45 46 47 48 49 50 51 52 53 54 55 56 57 58 59 60 61 62 63 64 65 66 67 68 69 70 71 72 73 74 75 76 77 78 79 80 81 82 83 84 85 86 87 88 89 90 91 92 93 94 95 96 97 98 99 \n",
      "Iterating vec5 using iterators: 0 1 2 3 4 5 6 7 8 9 10 11 12 13 14 15 16 17 18 19 20 21 22 23 24 25 26 27 28 29 30 31 32 33 34 35 36 37 38 39 40 41 42 43 44 45 46 47 48 49 50 51 52 53 54 55 56 57 58 59 60 61 62 63 64 65 66 67 68 69 70 71 72 73 74 75 76 77 78 79 80 81 82 83 84 85 86 87 88 89 90 91 92 93 94 95 96 97 98 99 \n",
      "Size of vec6 after clear: 0, capacity: 5\n",
      "Size of vec6 after shrink_to_fit: 0, capacity: 0\n",
      "Size of vec7 after swap: 0, capacity: 0\n",
      "Accessing vec8[2] without bounds checking: 3\n"
     ]
    }
   ],
   "source": [
    "// 9. Avoid Unnecessary Bounds Checking\n",
    "vector<int> vec8 = {1, 2, 3, 4, 5};\n",
    "int value = vec8[2];\n",
    "cout << \"Accessing vec8[2] without bounds checking: \" << value << \"\\n\";"
   ]
  },
  {
   "cell_type": "code",
   "execution_count": null,
   "id": "76553db0-9bed-4b1e-aab9-10e08ff2f821",
   "metadata": {},
   "outputs": [],
   "source": []
  },
  {
   "cell_type": "code",
   "execution_count": null,
   "id": "663452ed-011d-4522-a0c5-15a9d34ecbbc",
   "metadata": {},
   "outputs": [],
   "source": []
  },
  {
   "cell_type": "code",
   "execution_count": null,
   "id": "376fbcc6-edaf-455a-9d65-14c81e513cdb",
   "metadata": {},
   "outputs": [],
   "source": []
  },
  {
   "cell_type": "code",
   "execution_count": null,
   "id": "1ea9e237-9893-4259-8d0a-71d967b5204b",
   "metadata": {},
   "outputs": [],
   "source": []
  }
 ],
 "metadata": {
  "kernelspec": {
   "display_name": "C++17",
   "language": "C++17",
   "name": "xcpp17"
  },
  "language_info": {
   "codemirror_mode": "text/x-c++src",
   "file_extension": ".cpp",
   "mimetype": "text/x-c++src",
   "name": "c++",
   "version": "17"
  }
 },
 "nbformat": 4,
 "nbformat_minor": 5
}
