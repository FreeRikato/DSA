{
 "cells": [
  {
   "cell_type": "markdown",
   "id": "a152fe33-6b7f-4795-8852-7322c6dc61f8",
   "metadata": {},
   "source": [
    "# STL"
   ]
  },
  {
   "cell_type": "markdown",
   "id": "d5efc985-aa22-4cdc-9183-1fd421664f8d",
   "metadata": {},
   "source": [
    "## Introduction"
   ]
  },
  {
   "cell_type": "markdown",
   "id": "7e138165-a932-4cfb-bf44-410581c24e12",
   "metadata": {},
   "source": [
    "![](./files/STL_Notes_1.JPG)\n",
    "![](https://media.geeksforgeeks.org/wp-content/uploads/20191111161536/Screenshot-from-2019-11-11-16-13-18.png)\n",
    "![](https://media.geeksforgeeks.org/wp-content/uploads/20191111161627/Screenshot-from-2019-11-11-16-15-07.png)"
   ]
  },
  {
   "cell_type": "markdown",
   "id": "6b60866b-c93e-45f6-a44d-89e2da5e9f39",
   "metadata": {},
   "source": [
    "## Vector"
   ]
  },
  {
   "cell_type": "markdown",
   "id": "5d71d129-dedb-42ee-bfa7-e654d9e77f1f",
   "metadata": {},
   "source": [
    "![](./files/STL_Notes_2.JPG)\n",
    "![](.//files/STL_Notes_3.JPG)"
   ]
  },
  {
   "cell_type": "code",
   "execution_count": 2,
   "id": "ff3b0f68-5464-4c5f-b515-73ce11247af3",
   "metadata": {},
   "outputs": [],
   "source": [
    "// Empty vector\n",
    "std::vector<int> vec1;\n",
    "\n",
    "// Vector with initial size\n",
    "std::vector<int> vec2(5);\n",
    "\n",
    "// Vector with initial size and value\n",
    "std::vector<int> vec3(5, 10);\n",
    "\n",
    "// Vector initialized with list\n",
    "std::vector<int> vec4 = {1, 2, 3, 4, 5};"
   ]
  },
  {
   "cell_type": "code",
   "execution_count": null,
   "id": "7d876f2c-8cfe-4151-b93e-1321b9408ea3",
   "metadata": {},
   "outputs": [],
   "source": []
  }
 ],
 "metadata": {
  "kernelspec": {
   "display_name": "C++17",
   "language": "C++17",
   "name": "xcpp17"
  },
  "language_info": {
   "codemirror_mode": "text/x-c++src",
   "file_extension": ".cpp",
   "mimetype": "text/x-c++src",
   "name": "c++",
   "version": "17"
  }
 },
 "nbformat": 4,
 "nbformat_minor": 5
}
