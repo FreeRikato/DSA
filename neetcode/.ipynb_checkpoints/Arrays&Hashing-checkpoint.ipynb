{
 "cells": [
  {
   "cell_type": "markdown",
   "id": "a8f912d9-07b1-4e4f-8602-3935781d9ad1",
   "metadata": {},
   "source": [
    "# Arrays and Hashing"
   ]
  },
  {
   "cell_type": "markdown",
   "id": "51dedf32-33ae-4eb4-b2b1-6a64a8802a2d",
   "metadata": {},
   "source": [
    "## Contains Duplicate"
   ]
  },
  {
   "cell_type": "code",
   "execution_count": null,
   "id": "75259f02-9255-4bb8-853e-da34e095a853",
   "metadata": {},
   "outputs": [],
   "source": [
    "// Traverse through the array of numbers inserting them one by one in unordered set\n",
    "// If they do exist already then return true else after traversal return false\n",
    "\n",
    "class Solution {\n",
    "public:\n",
    "    bool containsDuplicate(vector<int>& nums) {\n",
    "        // nums (vector) - Contains list of number with duplicate\n",
    "        // return true if list contains duplicate or else false\n",
    "        unordered_set<int> checkDuplicate;\n",
    "        for (int num : nums) {\n",
    "            if(checkDuplicate.find(num) != checkDuplicate.end())\n",
    "            // if the number is already in the set, it's a duplicate\n",
    "            return true;\n",
    "            checkDuplicate.insert(num);\n",
    "        }\n",
    "        // If we have traced through all numbers without finding a duplicate\n",
    "        return false;\n",
    "    }\n",
    "};"
   ]
  },
  {
   "cell_type": "code",
   "execution_count": null,
   "id": "241fc825-d47d-4e4e-8345-1caa6ae519d3",
   "metadata": {},
   "outputs": [],
   "source": [
    "// Number of numbers with/without duplicate != Number of numbers after putting in set\n",
    "class Solution {\n",
    "public:\n",
    "    bool containsDuplicate(vector<int>& nums) {\n",
    "        // nums (vector) - Contains list of number with duplicate\n",
    "        // return true if list contains duplicate or else false\n",
    "        unordered_set<int> checkDuplicate;\n",
    "        for (int num : nums) checkDuplicate.insert(num);\n",
    "        // Create a set with the elements in vector and compare size of the containers\n",
    "        return checkDuplicate.size() != nums.size();\n",
    "    }\n",
    "};"
   ]
  },
  {
   "cell_type": "code",
   "execution_count": null,
   "id": "2d1246c1-69a1-4ada-ab63-78dedb8dc3b0",
   "metadata": {},
   "outputs": [],
   "source": [
    "// Convert the vector into unordered map of element: frequency and check if any of the element has frequency > 1\n",
    "class Solution {\n",
    "public:\n",
    "    bool containsDuplicate(vector<int>& nums) {\n",
    "        // nums (vector) - Contains list of number with duplicate\n",
    "        // return true if list contains duplicate or else false\n",
    "        unordered_map<int, int> checkDuplicate;\n",
    "        // Put the elements in vector into unordered map\n",
    "        // Key: element and value: frequency\n",
    "        for (int num : nums) checkDuplicate[num]++;\n",
    "        // If frequency of any element is greater than one then contains duplicate\n",
    "        for (auto pair: checkDuplicate)\n",
    "        if (pair.second > 1) return true;\n",
    "        // else return false\n",
    "        return false;\n",
    "    }\n",
    "};"
   ]
  },
  {
   "cell_type": "markdown",
   "id": "da95c5e2-f512-4fef-9dce-1890f4f69863",
   "metadata": {},
   "source": [
    "## Valid Anagram"
   ]
  },
  {
   "cell_type": "code",
   "execution_count": null,
   "id": "a537c89b-88c8-4aff-9232-4979a9076269",
   "metadata": {},
   "outputs": [],
   "source": [
    "// Traverse the first string and count frequency of its characters then traverse the second string to decrease the frequency count from initial unordered map\n",
    "class Solution {\n",
    "public:\n",
    "    bool isAnagram(string s, string t) {\n",
    "        unordered_map<char, int> anagram;\n",
    "        for(char chr : s) anagram[chr]++;\n",
    "        for(char chr: t) anagram[chr]--;\n",
    "        for(auto pair: anagram)\n",
    "          if(pair.second != 0) return false;\n",
    "        return true;\n",
    "    }\n",
    "};"
   ]
  },
  {
   "cell_type": "code",
   "execution_count": null,
   "id": "edf2c91b-464d-4bed-9517-053564f48831",
   "metadata": {},
   "outputs": [],
   "source": [
    "// Compare length of the strings then Compare Frequency mapping of first string to second string\n",
    "\n",
    "class Solution {\n",
    "public:\n",
    "    bool isAnagram(string s, string t) {\n",
    "        if(s.size() != t.size()) return false;\n",
    "        \n",
    "        unordered_map<char,int> smap;\n",
    "        unordered_map<char,int> tmap;\n",
    "        \n",
    "        for(int i = 0; i < s.size(); i++){\n",
    "            smap[s[i]]++;\n",
    "            tmap[t[i]]++;\n",
    "        }\n",
    "        \n",
    "        for(int i = 0; i < smap.size(); i++){\n",
    "            if(smap[i] != tmap[i]) return false;\n",
    "        }\n",
    "        return true;\n",
    "    }\n",
    "};"
   ]
  },
  {
   "cell_type": "markdown",
   "id": "d960b9c3-cfd3-423f-9166-b6ba03b310c7",
   "metadata": {},
   "source": [
    "## Two Sum"
   ]
  },
  {
   "cell_type": "code",
   "execution_count": null,
   "id": "e4331db0-3d3d-47ae-939b-2731ff817e09",
   "metadata": {},
   "outputs": [],
   "source": [
    "// Unordered map with One pass Key: element and value: index\n",
    "class Solution {\n",
    "public:\n",
    "    vector<int> twoSum(vector<int>& nums, int target) {\n",
    "        unordered_map<int, int> mpp;\n",
    "        for(int i=0; i < nums.size(); i++){\n",
    "          int complement = target - nums[i];\n",
    "          if(mpp.find(complement) != mpp.end()) return {mpp[complement], i};\n",
    "          mpp[nums[i]] = i;\n",
    "        }\n",
    "      return {};\n",
    "    }\n",
    "};"
   ]
  },
  {
   "cell_type": "code",
   "execution_count": null,
   "id": "d8d1b829-92cf-49dd-83e7-3ea1b359f914",
   "metadata": {},
   "outputs": [],
   "source": [
    "// Unordered map with Two pass Key: element and value: index\n",
    "class Solution {\n",
    "public:\n",
    "    vector<int> twoSum(vector<int>& nums, int target) {\n",
    "        unordered_map <int, int> mpp;\n",
    "        int pos = 0;\n",
    "        for(int num: nums) mpp[num] = pos++;\n",
    "        for(int i = 0; i < nums.size(); i++){\n",
    "          int complement = target - nums[i];\n",
    "          if(mpp[complement] && mpp[complement] != i) \n",
    "          return {mpp[complement], i};\n",
    "        }\n",
    "      return {};\n",
    "    }\n",
    "};"
   ]
  }
 ],
 "metadata": {
  "kernelspec": {
   "display_name": "C++11",
   "language": "C++11",
   "name": "xcpp11"
  },
  "language_info": {
   "codemirror_mode": "text/x-c++src",
   "file_extension": ".cpp",
   "mimetype": "text/x-c++src",
   "name": "c++",
   "version": "11"
  }
 },
 "nbformat": 4,
 "nbformat_minor": 5
}
